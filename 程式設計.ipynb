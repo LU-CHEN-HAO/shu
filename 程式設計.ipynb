{
 "cells": [
  {
   "cell_type": "code",
   "execution_count": 7,
   "metadata": {
    "scrolled": true
   },
   "outputs": [
    {
     "name": "stdout",
     "output_type": "stream",
     "text": [
      "enter height:23.5\n",
      "enter weight:19\n",
      "perimeter= 21.25\n",
      "area= 446.5\n"
     ]
    }
   ],
   "source": [
    "a=eval(input('enter height:'))\n",
    "b=eval(input('enter weight:'))\n",
    "d=(2*a+2*b)/4\n",
    "print('perimeter=',d)\n",
    "c=a*b\n",
    "print('area=',c)"
   ]
  },
  {
   "cell_type": "code",
   "execution_count": 3,
   "metadata": {},
   "outputs": [
    {
     "name": "stdout",
     "output_type": "stream",
     "text": [
      "s:9\n",
      "高= 7.794228634059947\n",
      "面積= 35.074028853269766\n"
     ]
    }
   ],
   "source": [
    "a=eval(input('s:'))\n",
    "b=((3**(1/2))/2)*a\n",
    "print('高=',b)\n",
    "c=((3**(1/2))/4)*(a**2)\n",
    "print('面積=',c)"
   ]
  },
  {
   "cell_type": "code",
   "execution_count": 15,
   "metadata": {},
   "outputs": [
    {
     "name": "stdout",
     "output_type": "stream",
     "text": [
      "x(min):10\n",
      "y:(sec)25\n",
      "z:(km)3\n",
      "speed= 10.8\n"
     ]
    }
   ],
   "source": [
    "a=eval(input('x(min):'))\n",
    "b=eval(input('y:(sec)'))\n",
    "c=eval(input('z:(km)'))\n",
    "d=c/1.6\n",
    "e=(a*60+b)/3600\n",
    "f=d/e\n",
    "print('speed=',f)"
   ]
  },
  {
   "cell_type": "code",
   "execution_count": 17,
   "metadata": {},
   "outputs": [
    {
     "name": "stdout",
     "output_type": "stream",
     "text": [
      "z:(mile)10\n",
      "16.0\n"
     ]
    }
   ],
   "source": [
    "c=eval(input('z:(mile)'))\n",
    "a=c*1.6\n",
    "print(a)"
   ]
  },
  {
   "cell_type": "code",
   "execution_count": 18,
   "metadata": {},
   "outputs": [
    {
     "name": "stdout",
     "output_type": "stream",
     "text": [
      "華氏溫度1000\n",
      "攝氏溫度= 537.7777777777778\n"
     ]
    }
   ],
   "source": [
    "a=eval(input('華氏溫度'))\n",
    "b=(a-32)*5/9\n",
    "print('攝氏溫度=',b)"
   ]
  },
  {
   "cell_type": "code",
   "execution_count": 31,
   "metadata": {},
   "outputs": [
    {
     "name": "stdout",
     "output_type": "stream",
     "text": [
      "x:25.6\n",
      "y:10.9\n",
      "z:11.3\n",
      "47\n",
      "15.933333333333332\n"
     ]
    }
   ],
   "source": [
    "a=eval(input('x:'))\n",
    "b=eval(input('y:'))\n",
    "c=eval(input('z:'))\n",
    "print(int(a+b+c))\n",
    "print((a+b+c)/3)"
   ]
  },
  {
   "cell_type": "code",
   "execution_count": null,
   "metadata": {},
   "outputs": [],
   "source": []
  },
  {
   "cell_type": "code",
   "execution_count": 22,
   "metadata": {
    "scrolled": true
   },
   "outputs": [
    {
     "name": "stdout",
     "output_type": "stream",
     "text": [
      "x:10\n",
      "314.0\n",
      "62.800000000000004\n"
     ]
    }
   ],
   "source": [
    "a=eval(input('x:'))\n",
    "b=a*a*3.14\n",
    "c=(a+a)*3.14\n",
    "print(b)\n",
    "print(c)\n"
   ]
  },
  {
   "cell_type": "code",
   "execution_count": 23,
   "metadata": {
    "scrolled": true
   },
   "outputs": [
    {
     "name": "stdout",
     "output_type": "stream",
     "text": [
      "enter height:10\n",
      "enter weight:20\n",
      "200\n",
      "60\n"
     ]
    }
   ],
   "source": [
    "a=eval(input('enter height:'))\n",
    "b=eval(input('enter weight:'))\n",
    "c=a*b\n",
    "d=(a+b)*2\n",
    "print(c)\n",
    "print(d)"
   ]
  },
  {
   "cell_type": "code",
   "execution_count": 29,
   "metadata": {},
   "outputs": [
    {
     "name": "stdout",
     "output_type": "stream",
     "text": [
      "x:10\n",
      "y:20\n",
      "-504.25\n"
     ]
    }
   ],
   "source": [
    "a=eval(input('x:'))\n",
    "b=eval(input('y:'))\n",
    "c=(3+4*a)/5-(10*(b-5)*(a+b+5))/a+9*((4/a)+((9+a)/b))\n",
    "print(c)"
   ]
  },
  {
   "cell_type": "code",
   "execution_count": 30,
   "metadata": {},
   "outputs": [
    {
     "name": "stdout",
     "output_type": "stream",
     "text": [
      "a:10\n",
      "b:20\n",
      "c:30\n"
     ]
    },
    {
     "data": {
      "text/plain": [
       "-5486.398268398269"
      ]
     },
     "execution_count": 30,
     "metadata": {},
     "output_type": "execute_result"
    }
   ],
   "source": [
    "a=eval(input('a:'))\n",
    "b=eval(input('b:'))\n",
    "c=eval(input('c:'))\n",
    "4/(3*(a+34))-9*(a+b*c)+(3+3*(2+a)/(3+3*b))"
   ]
  },
  {
   "cell_type": "code",
   "execution_count": null,
   "metadata": {},
   "outputs": [],
   "source": []
  }
 ],
 "metadata": {
  "kernelspec": {
   "display_name": "Python 3",
   "language": "python",
   "name": "python3"
  },
  "language_info": {
   "codemirror_mode": {
    "name": "ipython",
    "version": 3
   },
   "file_extension": ".py",
   "mimetype": "text/x-python",
   "name": "python",
   "nbconvert_exporter": "python",
   "pygments_lexer": "ipython3",
   "version": "3.7.4"
  }
 },
 "nbformat": 4,
 "nbformat_minor": 2
}
